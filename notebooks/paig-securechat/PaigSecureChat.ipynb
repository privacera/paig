{
  "cells": [
    {
      "cell_type": "markdown",
      "metadata": {
        "id": "vM6Yo7miVSEJ"
      },
      "source": [
        "<center>\n",
        "    <p style=\"text-align:center\">\n",
        "        <img width=\"500\" height=\"120\" src=\"https://paig.ai/wp-content/uploads/paig-os-header-logo.png\" alt=\"PAIG\" class=\"site-logo__image entered lazyloaded\" data-lazy-src=\"https://paig.ai/wp-content/uploads/paig-os-header-logo.png\" data-ll-status=\"loaded\">\n",
        "        <br>\n",
        "        <a href=\"https://paig.ai/\">Vist Us</a>\n",
        "        |\n",
        "        <a href=\"https://docs.paig.ai/index.html\">Docs</a>\n",
        "    </p>\n",
        "</center>\n",
        "<div width=\"100%\"> <h1 style=\"text-align:center;align-self: center\">PAIG-SecureChat</h1> </div>\n",
        "\n",
        "Secure Chat is a conversational AI chat bot .\n",
        "Secure chat allows users to create  conversations with an AI chat bot which can optionally  be governed by PAIG.\n",
        "Secure chat SDK/Library provides an easy to use, plugable platform which will allow developers/users to have open source chat bot SDK.\n",
        "\n",
        "\n",
        "To run this notebook you will need the following,\n",
        "\n",
        "\n",
        "1.  Your OpenAI API Key.\n",
        "\n"
      ]
    },
    {
      "cell_type": "markdown",
      "source": [
        "<div width=\"100%\"> <h1 style=\"text-align:center;align-self: center\">PAIG - Prompt/Reply Guardrails and Observability using OpenAI:</h1> </div>"
      ],
      "metadata": {
        "id": "mq_8PFqbsv8d"
      }
    },
    {
      "cell_type": "markdown",
      "source": [
        "# 1. Install Python Packages\n",
        "\n",
        "This step installs the necessary Python packages for PAIG Shield Server, PAIG Shield Client, OpenAI, and Spacy.\n",
        "\n",
        "> Note:\n",
        "> 1. It might take a minute or more to download and install all the packages.\n",
        "> 2. After everything is installed, you might see a message to restart the runtime. You can ignore this message."
      ],
      "metadata": {
        "id": "hDdTrrOfrl5c"
      }
    },
    {
      "cell_type": "code",
      "source": [
        "!pip install -qqq paig-client openai paig-server --no-warn-conflicts\n",
        "!python -m spacy download en_core_web_lg\n",
        "!echo \"\\n\\n\"\n",
        "!echo \"Ignore the above messages to restart the runtime or kernel. Please continue to the next step\""
      ],
      "metadata": {
        "id": "vvtBPZFOl2qh"
      },
      "execution_count": null,
      "outputs": []
    },
    {
      "cell_type": "markdown",
      "source": [
        "# 2. Start the PAIG Shield Server\n",
        "\n",
        "The command line to start PAIG Shield Server is `paig run`. Out here we will start the server in the background using Python subprocess.\n",
        "\n",
        "The default port used by PAIG Shield Server is 4545.\n",
        "\n",
        "> **Tip:** Detailed PAIG application logs can be found in a directory called \"logs\""
      ],
      "metadata": {
        "id": "AvyKId-sr17o"
      }
    },
    {
      "cell_type": "code",
      "source": [
        "import subprocess\n",
        "\n",
        "command = [\"paig\", \"run\"]\n",
        "\n",
        "# Start the PAIG application in the background\n",
        "# Note - Console logs are hidden using stdout parameter, please remove the stdout parameter to get console logs\n",
        "process = subprocess.Popen(command, stdout=subprocess.DEVNULL)\n",
        "\n",
        "print(f\"Started PAIG application with PID {process.pid}\")"
      ],
      "metadata": {
        "id": "Zyxt40gLl_JI"
      },
      "execution_count": null,
      "outputs": []
    },
    {
      "cell_type": "markdown",
      "source": [
        "\n",
        "# 3. Verify that the PAIG Shield Server is Up and Accepting Requests\n",
        "\n",
        "This step ensures that the PAIG Shield Server is running and accepting requests. Once the server is up and running, it will print the URL for the PAIG Shield Server.\n",
        "\n",
        "> Note: In some cases, the URL might not be accessible from outside. It is okay to ignore this. The portal will be opened within this Colab notebook in a later step.\n"
      ],
      "metadata": {
        "id": "SOXZN6H8sLiO"
      }
    },
    {
      "cell_type": "code",
      "source": [
        "import requests\n",
        "import time\n",
        "from google.colab.output import eval_js\n",
        "\n",
        "url = \"http://127.0.0.1:4545/\"\n",
        "\n",
        "print('Please wait while we confirm if your PAIG application is ready...')\n",
        "while True:\n",
        "  try:\n",
        "    response = requests.get(url, timeout=3)\n",
        "    response.raise_for_status()\n",
        "    break\n",
        "  except requests.RequestException:\n",
        "    print('Server is not ready yet, please hang on...')\n",
        "    time.sleep(3)\n",
        "\n",
        "server_url = str(eval_js(f\"google.colab.kernel.proxyPort({4545}, {{'cache': true}})\"))\n",
        "print(f'Your PAIG application is ready now.\\nYou can access the PAIG application at: {server_url}')"
      ],
      "metadata": {
        "id": "m-WlkZMvmYHk"
      },
      "execution_count": null,
      "outputs": []
    },
    {
      "cell_type": "markdown",
      "source": [
        "# 4. Download the Application Configuration from the PAIG Shield Server\n",
        "\n",
        "The PAIG Shield Server is bootstrapped with a sample GenAI application, which can be used to quickly test PAIG features. In this step, we will download the configuration file needed by the PAIG Shield Client. The configuration file is saved in the `custom-configs` sub-folder.\n",
        "\n",
        "> Note: Since authentication is disabled, the API call to get the configuration will not be authorized.\n"
      ],
      "metadata": {
        "id": "nV2J57iMsQbF"
      }
    },
    {
      "cell_type": "code",
      "source": [
        "CONFIG_URL=\"http://127.0.0.1:4545/governance-service/api/ai/application/1/config/json/download\"\n",
        "OUTPUT_FILE=\"custom-configs/privacera-shield-config.json\"\n",
        "!mkdir -p custom-configs && wget -O $OUTPUT_FILE $CONFIG_URL"
      ],
      "metadata": {
        "id": "21DiJre6mjJc"
      },
      "execution_count": null,
      "outputs": []
    },
    {
      "cell_type": "markdown",
      "source": [
        "<br>\n",
        "<br>\n",
        "<br>\n",
        "\n",
        "<div width=\"100%\"> <h1 style=\"text-align:center;align-self: center\">PAIG-SecureChat governed by PAIG:</h1> </div>"
      ],
      "metadata": {
        "id": "8_rcMEsVs-KN"
      }
    },
    {
      "cell_type": "markdown",
      "metadata": {
        "id": "HcshY-SCF87R"
      },
      "source": [
        "## 1. Install Dependencies\n",
        "\n",
        "Install PAIG SecureChat"
      ]
    },
    {
      "cell_type": "code",
      "execution_count": null,
      "metadata": {
        "id": "SOzmjlrfF87R"
      },
      "outputs": [],
      "source": [
        "!pip install -q paig_securechat --no-warn-conflicts"
      ]
    },
    {
      "cell_type": "markdown",
      "metadata": {
        "id": "HblpCLwAOTGA"
      },
      "source": [
        "## 2. Configure OpenAI API Key\n",
        "\n",
        "Setup your OpenAI key as an environment variable.Please paste and enter your key in given text box."
      ]
    },
    {
      "cell_type": "code",
      "execution_count": null,
      "metadata": {
        "id": "zcoKMzwSlO8M"
      },
      "outputs": [],
      "source": [
        "from getpass import getpass\n",
        "import os\n",
        "os.environ[\"OPENAI_API_KEY\"] = getpass(\"🔑 Enter your OpenAI API key: \")"
      ]
    },
    {
      "cell_type": "markdown",
      "metadata": {
        "id": "Fkc2B_pQPLCT"
      },
      "source": [
        "## 3. Launch PAIG SecureChat\n",
        "\n",
        "Your SecureChat will be started in background with minimal setup. You can setup PAIG Shield key to have a look into AI goverance using PAIG. You can stop the app by running\n",
        "\n",
        "```\n",
        "launcher.close_app()\n",
        "```\n",
        "\n",
        "\n",
        "\n",
        "\n",
        "\n"
      ]
    },
    {
      "cell_type": "code",
      "execution_count": null,
      "metadata": {
        "id": "J2GQ8Z-DPLCT"
      },
      "outputs": [],
      "source": [
        "from paig_securechat import launcher\n",
        "session = launcher.launch_app()"
      ]
    },
    {
      "cell_type": "markdown",
      "metadata": {
        "id": "vyhIGZYlQrRJ"
      },
      "source": [
        "## 5. Explore PAIG SecureChat Web UI\n",
        "\n",
        "You will be served with the embedded Web-UI of PAIG SecureChat. In Colab mode,  you will be assigned with a dedicated default login user. This might take few seconds , hang on...."
      ]
    },
    {
      "cell_type": "code",
      "execution_count": null,
      "metadata": {
        "id": "1Sq_DSpUQrRK"
      },
      "outputs": [],
      "source": [
        "launcher.active_session().view(height=800)"
      ]
    }
  ],
  "metadata": {
    "colab": {
      "provenance": []
    },
    "kernelspec": {
      "display_name": "Python 3",
      "name": "python3"
    },
    "language_info": {
      "name": "python"
    }
  },
  "nbformat": 4,
  "nbformat_minor": 0
}