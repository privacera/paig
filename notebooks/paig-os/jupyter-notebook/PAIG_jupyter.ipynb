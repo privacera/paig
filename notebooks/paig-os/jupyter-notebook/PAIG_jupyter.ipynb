{
 "cells": [
  {
   "cell_type": "markdown",
   "id": "e69bb50d-b560-4d92-b8aa-51b3d10fecad",
   "metadata": {
    "id": "e69bb50d-b560-4d92-b8aa-51b3d10fecad"
   },
   "source": [
    "# PAIG\n",
    "PAIG offers tools designed to enhance the security and compliance of your AI applications. Whether you're using chatbots internally, incorporating AI services into your products, or utilizing automated tools to process tasks like customer support tickets or feedback, PAIG ensures that you maintain the highest standards of security and adherence to compliance. It's tailored for businesses that value a robust yet straightforward approach to AI application governance."
   ]
  },
  {
   "cell_type": "markdown",
   "id": "e821fc23-5f14-49f3-bacb-1d785cffa94b",
   "metadata": {
    "id": "e821fc23-5f14-49f3-bacb-1d785cffa94b"
   },
   "source": [
    "\n",
    "## 1. Install Dependencies\n",
    "This will take several seconds, upto a minute. This installs PAIG library, PAIG Shield plugin library, OpenAI and Spacy\n"
   ]
  },
  {
   "cell_type": "code",
   "execution_count": null,
   "id": "ba361f69-5dde-471f-ad0a-8daa9a049e88",
   "metadata": {
    "id": "ba361f69-5dde-471f-ad0a-8daa9a049e88"
   },
   "outputs": [],
   "source": [
    "!pip install -qqq paig_client openai paig-server --no-warn-conflicts\n",
    "!python -m spacy download en_core_web_lg"
   ]
  },
  {
   "cell_type": "markdown",
   "id": "34e2e478-7777-4f9d-9056-0262ef6de25e",
   "metadata": {
    "id": "34e2e478-7777-4f9d-9056-0262ef6de25e"
   },
   "source": [
    "## 2. Start PAIG Application\n",
    "\n",
    "This will start PAIG application in the background on default port 4545.\n",
    "You can run the below command to see all available setup options for PAIG application\n",
    "\n",
    "\n",
    "\n",
    "```\n",
    "paig --help\n",
    "```\n",
    "\n",
    "> **Tip:** Detailed PAIG application logs can be found in a directory called \"logs\""
   ]
  },
  {
   "cell_type": "code",
   "execution_count": null,
   "id": "deccf140-571a-4330-a7d5-3c1d87cf1397",
   "metadata": {
    "id": "deccf140-571a-4330-a7d5-3c1d87cf1397"
   },
   "outputs": [],
   "source": [
    "import subprocess\n",
    "\n",
    "command = [\"paig\", \"run\"]\n",
    "\n",
    "# Start the PAIG application in the background\n",
    "# Note - Console logs are hidden using stdout parameter, please remove the stdout parameter to get console logs\n",
    "process = subprocess.Popen(command, stdout=subprocess.DEVNULL, stderr=subprocess.DEVNULL)\n",
    "\n",
    "print(f\"Started PAIG application with PID {process.pid}\")"
   ]
  },
  {
   "cell_type": "markdown",
   "id": "__XLMSPOLIDl",
   "metadata": {
    "id": "__XLMSPOLIDl"
   },
   "source": [
    "## 3. Login to your PAIG application once ready\n",
    "\n",
    "This will ask you to wait until PAIG application is ready for use. Once ready we will provide you with a link using which you can explore the PAIG user interface.\n",
    "\n",
    "> **Tip:** You can log into PAIG application using following credentials:-\n",
    "<br> username: admin\n",
    "<br> password: welcome1"
   ]
  },
  {
   "cell_type": "code",
   "execution_count": null,
   "id": "NZQG-tzDLIDm",
   "metadata": {
    "id": "NZQG-tzDLIDm"
   },
   "outputs": [],
   "source": [
    "import requests\n",
    "import time\n",
    "url = \"http://127.0.0.1:4545/\"\n",
    "\n",
    "print('Please kindly wait until we confirm if your PAIG application is ready')\n",
    "while True:\n",
    "  try:\n",
    "    response = requests.get(url, timeout=3)\n",
    "    response.raise_for_status()\n",
    "    break\n",
    "  except:\n",
    "    print('Server is not ready yet, please hang on...')\n",
    "    time.sleep(3)\n",
    "server_url = \"http://127.0.0.1:4545\"\n",
    "print(f'Your PAIG application is ready now \\nYou can access PAIG application on - {server_url}')\n",
    "print(\"You can log into PAIG application using following credentials:-\\n  username: admin \\n  password: welcome1\")"
   ]
  },
  {
   "cell_type": "markdown",
   "id": "77325810-6ae1-47c8-b3d2-62bbf09efbe2",
   "metadata": {
    "id": "77325810-6ae1-47c8-b3d2-62bbf09efbe2"
   },
   "source": [
    "## 4. Download application config from PAIG Portal\n",
    "\n",
    "This will download the pre-seeded application configuration file from PAIG application portal and copy it to the folder called \"privacera\"\n"
   ]
  },
  {
   "cell_type": "code",
   "execution_count": null,
   "id": "5d9ec3d1-b319-460f-aa2b-dc53bccbd746",
   "metadata": {
    "id": "5d9ec3d1-b319-460f-aa2b-dc53bccbd746"
   },
   "outputs": [],
   "source": [
    "import requests\n",
    "import shutil\n",
    "import os\n",
    "import json\n",
    "\n",
    "login_url = \"http://127.0.0.1:4545/account-service/api/login\"\n",
    "config_url = \"http://127.0.0.1:4545/governance-service/api/ai/application/1/config/json/download\"\n",
    "username = \"admin\"\n",
    "password = \"welcome1\"\n",
    "\n",
    "session = requests.Session()\n",
    "\n",
    "def download_and_upload_demo_app_config():\n",
    "    login_payload = {\n",
    "    \"username\": username,  \n",
    "    \"password\": password\n",
    "    }\n",
    "    login_response = session.post(login_url, data=json.dumps(login_payload))\n",
    "    \n",
    "    if login_response.status_code == 200:\n",
    "        response = session.get(config_url)\n",
    "        if response.status_code == 200:\n",
    "            with open(\"privacera-shield-PAIG-Demo-config.json\", \"w\") as file:\n",
    "                file.write(response.text)\n",
    "            destination_folder = \"privacera\"\n",
    "            if not os.path.exists(destination_folder):\n",
    "                os.makedirs(destination_folder)\n",
    "            \n",
    "            shutil.move(\"privacera-shield-PAIG-Demo-config.json\", os.path.join(destination_folder, \"privacera-shield-PAIG-Demo-config.json\"))\n",
    "            print(\"Application config file downloaded and moved to privacera folder successfully.\")\n",
    "        else:\n",
    "            print(f\"Failed to download Application config file. Status code: {response.status_code}\")\n",
    "    else:\n",
    "        print(\"User authentication failed please check username and password\")\n",
    "\n",
    "download_and_upload_demo_app_config()"
   ]
  },
  {
   "cell_type": "markdown",
   "id": "5b6692c7-8fcd-4746-b56f-928d3098f929",
   "metadata": {
    "id": "5b6692c7-8fcd-4746-b56f-928d3098f929"
   },
   "source": [
    "## 5. Configure OpenAI API Key\n",
    "Setup your OpenAI key as an environment variable.Please paste and enter your key in given text box."
   ]
  },
  {
   "cell_type": "code",
   "execution_count": null,
   "id": "88429864-81be-47e8-9b7b-61d30cfb3f3b",
   "metadata": {
    "id": "88429864-81be-47e8-9b7b-61d30cfb3f3b"
   },
   "outputs": [],
   "source": [
    "from getpass import getpass\n",
    "import os\n",
    "os.environ[\"OPENAI_API_KEY\"] = getpass(\"🔑 Enter your OpenAI API key: \")"
   ]
  },
  {
   "cell_type": "markdown",
   "id": "72d9da12-1a03-4cb4-8106-3fbbf4fa674d",
   "metadata": {
    "id": "72d9da12-1a03-4cb4-8106-3fbbf4fa674d"
   },
   "source": [
    "## 6. Initialize the Privacera Shield library\n",
    "This one line of code will initialize the Privacera Shield library so that it is ready to protect your LangChain application.\n",
    "\n",
    "> **Tip:** If you get an error in this step, it could be because you have already run this step once. You can ignore the error and continue. You can also try restarting the Kernel and start from the beginning with the proper JSON file and OpenAI API key."
   ]
  },
  {
   "cell_type": "code",
   "execution_count": null,
   "id": "dc0a93aa-fd6c-4bf7-9136-7d856f6109d1",
   "metadata": {
    "id": "dc0a93aa-fd6c-4bf7-9136-7d856f6109d1"
   },
   "outputs": [],
   "source": [
    "from paig_client import client as paig_shield_client\n",
    "from openai import OpenAI\n",
    "\n",
    "# Set the OPENAI_API_KEY environment variable or set it here\n",
    "openai_client = OpenAI()\n",
    "\n",
    "paig_shield_client.setup(frameworks=[])\n"
   ]
  },
  {
   "cell_type": "markdown",
   "id": "033b73ac-0a25-4a72-a32a-ba53c0d814db",
   "metadata": {
    "id": "033b73ac-0a25-4a72-a32a-ba53c0d814db"
   },
   "source": [
    "## 7. Run the LLMChain with your question\n",
    "1. In this step, we are going to run the LLMChain with the prompt asked by a user named `testuser`.\n",
    "2. Note how we are passing the username by creating a Privacera Shield context object.\n",
    "3. Privacera Shield will intercept the prompt and the response coming from LLM for the `testuser` and run policies.\n",
    "4. The PAIG service scans both the prompt and response text and runs security policies.\n",
    "5. If the policies decide that the access is denied then an AccessControlException is thrown.\n",
    "\n",
    "> **Note:** Here username used is `testuser` which is an external user. So the policies applied will be as per the public. For applying userspecific properties, create and use the user from PAIG portal `Account > User Management > User`."
   ]
  },
  {
   "cell_type": "code",
   "execution_count": null,
   "id": "43d6091c-0eee-4e7f-bd8f-3a9224f2d001",
   "metadata": {
    "id": "43d6091c-0eee-4e7f-bd8f-3a9224f2d001"
   },
   "outputs": [],
   "source": [
    "from paig_client import client as paig_shield_client\n",
    "from paig_client.model import ConversationType\n",
    "import paig_client.exception\n",
    "import uuid\n",
    "\n",
    "# Replace \"testuser\" with the user who is using the application. Or you can use the service username\n",
    "user = \"testuser\"\n",
    "\n",
    "# Generate a random UUID which will be used to bind a prompt with a reply\n",
    "privacera_thread_id = str(uuid.uuid4())\n",
    "\n",
    "try:\n",
    "   with paig_shield_client.create_shield_context(username=user):\n",
    "      prompt_text = \"Who was the first President of USA and where did they live?\"\n",
    "      print(f\"User Prompt: {prompt_text}\")\n",
    "      # Validate prompt with Privacera Shield\n",
    "      updated_prompt_text = paig_shield_client.check_access(\n",
    "         text=prompt_text,\n",
    "         conversation_type=ConversationType.PROMPT,\n",
    "         thread_id=privacera_thread_id\n",
    "      )\n",
    "      updated_prompt_text = updated_prompt_text[0].response_text\n",
    "      print(f\"User Prompt (After Privacera Shield): {updated_prompt_text}\")\n",
    "      if prompt_text != updated_prompt_text:\n",
    "         print(f\"Updated prompt text: {updated_prompt_text}\")\n",
    "\n",
    "      # Call LLM with updated prompt text\n",
    "      PROMPT = f\"\"\"Use the following pieces of context to answer the question at the end.\n",
    "        {updated_prompt_text}\n",
    "        ANSWER:\n",
    "        \"\"\"\n",
    "\n",
    "      response = openai_client.chat.completions.create(model=\"gpt-4\", messages=[{\"role\": \"user\", \"content\": PROMPT}],\n",
    "                                                       temperature=0)\n",
    "      llm_response = response.choices[0].message.content\n",
    "      print(f\"LLM Response: {llm_response}\")\n",
    "      # Validate LLM response with Privacera Shield\n",
    "      updated_reply_text = paig_shield_client.check_access(\n",
    "         text=llm_response,\n",
    "         conversation_type=ConversationType.REPLY,\n",
    "         thread_id=privacera_thread_id\n",
    "      )\n",
    "      updated_reply_text = updated_reply_text[0].response_text\n",
    "      print(f\"LLM Response (After Privacera Shield): {updated_reply_text}\")\n",
    "except paig_client.exception.AccessControlException as e:\n",
    "   # If access is denied, then this exception will be thrown. You can handle it accordingly.\n",
    "   print(f\"AccessControlException: {e}\")"
   ]
  },
  {
   "cell_type": "markdown",
   "id": "V1xv0cN3PT07",
   "metadata": {
    "id": "V1xv0cN3PT07"
   },
   "source": [
    "## 8. Review the access audits in PAIG portal under Security menu option\n",
    "1. Now you can log in to the PAIG portal and check under `Security > Access Audits` section. You will see the audit record for the above run of your LangChain application.\n",
    "2. You can click on the eye icon and see the details of the prompts sent by the application to the LLM and the responses coming from the LLM.\n",
    "3. The default policy in PAIG for the application monitors the flow and tags the contents of the prompt and response."
   ]
  },
  {
   "cell_type": "code",
   "execution_count": null,
   "id": "lUoz5qhFPT07",
   "metadata": {
    "id": "lUoz5qhFPT07"
   },
   "outputs": [],
   "source": [
    "import webbrowser\n",
    "audit_url = f'{server_url}#/audits_security'\n",
    "print(f'To check access audits you can also open {audit_url}')\n",
    "webbrowser.open(audit_url)"
   ]
  }
 ],
 "metadata": {
  "colab": {
   "collapsed_sections": [
    "9c207905-a0f7-4849-b0c0-ca2133769679"
   ],
   "provenance": []
  },
  "kernelspec": {
   "display_name": "Python 3 (ipykernel)",
   "language": "python",
   "name": "python3"
  },
  "language_info": {
   "codemirror_mode": {
    "name": "ipython",
    "version": 3
   },
   "file_extension": ".py",
   "mimetype": "text/x-python",
   "name": "python",
   "nbconvert_exporter": "python",
   "pygments_lexer": "ipython3",
   "version": "3.10.14"
  }
 },
 "nbformat": 4,
 "nbformat_minor": 5
}
